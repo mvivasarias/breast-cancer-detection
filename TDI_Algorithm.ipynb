{
 "cells": [
  {
   "cell_type": "code",
   "execution_count": 11,
   "id": "e205f5a3-3b0f-4e19-9bbf-10bc68b44646",
   "metadata": {},
   "outputs": [],
   "source": [
    "import os #interact with the file system\n",
    "import glob #finding all file paths matching a specified pattern *.png\n",
    "import pandas as pd #to create and manipulate the DataFrame that stores the object properties\n",
    "import numpy as np #numerical operations\n",
    "from skimage import io, color, filters, measure #for image processing  io read images, convert images to grayscale,filtering methods,region properties and image labeling methods\n",
    "from skimage.morphology import closing, disk #image morphological operations\n"
   ]
  },
  {
   "cell_type": "code",
   "execution_count": 17,
   "id": "d844e468-f4f0-4def-bf89-03dcff3f7e17",
   "metadata": {},
   "outputs": [
    {
     "name": "stderr",
     "output_type": "stream",
     "text": [
      "/var/folders/m1/fyb2wf_51n3f0l5w2s09qqyh0000gn/T/ipykernel_10044/1529282927.py:79: FutureWarning: The behavior of DataFrame concatenation with empty or all-NA entries is deprecated. In a future version, this will no longer exclude empty or all-NA columns when determining the result dtypes. To retain the old behavior, exclude the relevant entries before the concat operation.\n",
      "  object_data = pd.concat([object_data, new_row_df], ignore_index=True)\n"
     ]
    },
    {
     "name": "stdout",
     "output_type": "stream",
     "text": [
      "No mask found for benign (51) copia.png. Skipping...\n",
      "Data saved to labeled_objects_with_statistical_intensities.csv\n"
     ]
    }
   ],
   "source": [
    "tumors_folder = '/Users/mariavivasarias/Desktop/TDI_TUMORS/'\n",
    "mask_folder = '/Users/mariavivasarias/Desktop/TDI_masks/'\n",
    "\n",
    "tumor_images = glob.glob(os.path.join(tumors_folder, '*.png'))\n",
    "mask_files = glob.glob(os.path.join(mask_folder, '*.png'))\n",
    "\n",
    "# Create a mapping of images to masks\n",
    "mask_dict = {}\n",
    "for mask in mask_files:\n",
    "    image_name = os.path.basename(mask).replace('_mask', '')\n",
    "    mask_dict[image_name] = mask\n",
    "\n",
    "# Initialize a DataFrame to store the properties of labeled objects, including intensities\n",
    "columns = ['Filename', 'Object_ID', 'Area', 'Perimeter', 'Circularity', 'Eccentricity', \n",
    "           'Solidity','Mean_Intensity', 'Std_Intensity', 'Max_Intensity', 'Min_Intensity', 'Valid_Tumor']\n",
    "object_data = pd.DataFrame(columns=columns)\n",
    "\n",
    "# Process each image\n",
    "for image_path in tumor_images:\n",
    "    # Read and preprocess the image\n",
    "    image_name = os.path.basename(image_path)\n",
    "    mask_path = mask_dict.get(image_name)\n",
    "\n",
    "    if not mask_path:\n",
    "        print(f\"No mask found for {image_name}. Skipping...\")\n",
    "        continue\n",
    "\n",
    "    image = io.imread(image_path)\n",
    "    gray_image = color.rgb2gray(image)\n",
    "    blurred_image = filters.gaussian(gray_image, sigma=2)\n",
    "\n",
    "    \n",
    "    otsu_threshold = filters.threshold_otsu(blurred_image)\n",
    "    mask = blurred_image < otsu_threshold\n",
    "    closed_mask = closing(mask, disk(1))\n",
    "    \n",
    "    # Label connected regions in the binary mask\n",
    "    labeled_image, num_labels = measure.label(closed_mask, return_num=True)\n",
    "    object_properties = measure.regionprops(labeled_image)\n",
    "\n",
    "    # Load the corresponding binary mask\n",
    "    mask_image = io.imread(mask_path)\n",
    "    mask_binary = mask_image > 0.5  # Ensure binary format\n",
    "\n",
    "    for object_id, obj_prop in enumerate(object_properties):\n",
    "        \n",
    "        object_mask = (labeled_image == obj_prop.label).astype(int) # Get the mask for the specific object\n",
    "        object_intensities = gray_image[object_mask > 0]  # Get the intensity values where the mask is non-zero\n",
    "\n",
    "        # Calculate statistical features\n",
    "        mean_intensity = np.mean(object_intensities)\n",
    "        std_intensity = np.std(object_intensities)\n",
    "        max_intensity = np.max(object_intensities)\n",
    "        min_intensity = np.min(object_intensities)\n",
    "\n",
    "        # Calculate valid tumor (based on the overlap ratio with the mask)\n",
    "        overlap_sum = np.sum(mask_binary * object_mask)\n",
    "        mask_sum = np.sum(mask_binary)\n",
    "        overlap_ratio = overlap_sum / mask_sum if mask_sum > 0 else 0\n",
    "        valid_tumor = overlap_ratio\n",
    "\n",
    "        # Prepare a new row of data for the object\n",
    "        new_row = {\n",
    "            'Filename': os.path.basename(image_path),\n",
    "            'Object_ID': object_id,\n",
    "            'Area': obj_prop.area,            \n",
    "            'Perimeter': obj_prop.perimeter,\n",
    "            'Circularity': (4 * np.pi * obj_prop.area) / (obj_prop.perimeter ** 2) if obj_prop.perimeter > 0 else 0,\n",
    "            'Eccentricity': obj_prop.eccentricity,\n",
    "            'Solidity': obj_prop.solidity,\n",
    "            'Mean_Intensity': mean_intensity,\n",
    "            'Std_Intensity': std_intensity,\n",
    "            'Max_Intensity': max_intensity,\n",
    "            'Min_Intensity': min_intensity,\n",
    "            'Valid_Tumor': float(valid_tumor)  # Convert to float for CSV compatibility\n",
    "        }\n",
    "        # Convert new_row into a DataFrame for concatenation\n",
    "        new_row_df = pd.DataFrame([new_row])\n",
    "        object_data = pd.concat([object_data, new_row_df], ignore_index=True)\n",
    "\n",
    "object_data.to_csv('/Users/mariavivasarias/Desktop/labeled_objects_with_statistical_intensities.csv', index=False)\n",
    "print(f\"Data saved to labeled_objects_with_statistical_intensities.csv\")\n"
   ]
  },
  {
   "cell_type": "code",
   "execution_count": 7,
   "id": "f2d2d52d-2133-418d-9239-4bc622f0dff3",
   "metadata": {},
   "outputs": [
    {
     "name": "stdout",
     "output_type": "stream",
     "text": [
      "Current working directory: /Users/mariavivasarias\n"
     ]
    }
   ],
   "source": [
    "import os\n",
    "print(f\"Current working directory: {os.getcwd()}\")\n"
   ]
  },
  {
   "cell_type": "code",
   "execution_count": null,
   "id": "c3e7f3ac-44d5-49fa-8e6a-8019ba4907c1",
   "metadata": {},
   "outputs": [],
   "source": []
  }
 ],
 "metadata": {
  "kernelspec": {
   "display_name": "Python 3 (ipykernel)",
   "language": "python",
   "name": "python3"
  },
  "language_info": {
   "codemirror_mode": {
    "name": "ipython",
    "version": 3
   },
   "file_extension": ".py",
   "mimetype": "text/x-python",
   "name": "python",
   "nbconvert_exporter": "python",
   "pygments_lexer": "ipython3",
   "version": "3.12.7"
  }
 },
 "nbformat": 4,
 "nbformat_minor": 5
}
