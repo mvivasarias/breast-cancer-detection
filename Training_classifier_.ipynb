{
 "cells": [
  {
   "cell_type": "code",
   "execution_count": 121,
   "id": "b2bd8d8e-443c-47ad-9f61-f37df1b3a5f8",
   "metadata": {},
   "outputs": [],
   "source": [
    "import pandas as pd\n",
    "from sklearn.model_selection import train_test_split  #Splits a dataset into training and testing subsets\n",
    "from sklearn.ensemble import RandomForestClassifier #A machine learning algorithm used for classification tasks\n",
    "from sklearn.metrics import classification_report, accuracy_score #Generates a detailed report on the performance of a classification model.\n",
    "from sklearn.discriminant_analysis import LinearDiscriminantAnalysis #imports the Linear Discriminant Analysis (LDA) class \n",
    "import joblib #saving and loading machine learning models and other Python objects\n",
    "from sklearn.metrics import confusion_matrix\n",
    "import seaborn as sns # Python data visualization library based on matplotlib\n",
    "import matplotlib.pyplot as plt\n"
   ]
  },
  {
   "cell_type": "code",
   "execution_count": 123,
   "id": "da83278b-d300-43a7-912e-21d1e49eb136",
   "metadata": {},
   "outputs": [],
   "source": [
    "\n",
    "data = pd.read_csv('/Users/mariavivasarias/Desktop/labeled_objects_with_statistical_intensities.csv')\n"
   ]
  },
  {
   "cell_type": "code",
   "execution_count": 125,
   "id": "3b8e30cc-b456-4681-822b-e42cc7e9b625",
   "metadata": {},
   "outputs": [
    {
     "data": {
      "text/html": [
       "<div>\n",
       "<style scoped>\n",
       "    .dataframe tbody tr th:only-of-type {\n",
       "        vertical-align: middle;\n",
       "    }\n",
       "\n",
       "    .dataframe tbody tr th {\n",
       "        vertical-align: top;\n",
       "    }\n",
       "\n",
       "    .dataframe thead th {\n",
       "        text-align: right;\n",
       "    }\n",
       "</style>\n",
       "<table border=\"1\" class=\"dataframe\">\n",
       "  <thead>\n",
       "    <tr style=\"text-align: right;\">\n",
       "      <th></th>\n",
       "      <th>Filename</th>\n",
       "      <th>Object_ID</th>\n",
       "      <th>Area</th>\n",
       "      <th>Perimeter</th>\n",
       "      <th>Circularity</th>\n",
       "      <th>Eccentricity</th>\n",
       "      <th>Solidity</th>\n",
       "      <th>Mean_Intensity</th>\n",
       "      <th>Std_Intensity</th>\n",
       "      <th>Max_Intensity</th>\n",
       "      <th>Min_Intensity</th>\n",
       "      <th>Valid_Tumor</th>\n",
       "    </tr>\n",
       "  </thead>\n",
       "  <tbody>\n",
       "    <tr>\n",
       "      <th>0</th>\n",
       "      <td>benign (208) copia.png</td>\n",
       "      <td>0</td>\n",
       "      <td>9.0</td>\n",
       "      <td>9.207107</td>\n",
       "      <td>1.334154</td>\n",
       "      <td>0.929440</td>\n",
       "      <td>1.000000</td>\n",
       "      <td>0.006972</td>\n",
       "      <td>0.007572</td>\n",
       "      <td>0.019608</td>\n",
       "      <td>0.000000</td>\n",
       "      <td>0</td>\n",
       "    </tr>\n",
       "    <tr>\n",
       "      <th>1</th>\n",
       "      <td>benign (208) copia.png</td>\n",
       "      <td>1</td>\n",
       "      <td>16.0</td>\n",
       "      <td>12.621320</td>\n",
       "      <td>1.262177</td>\n",
       "      <td>0.668184</td>\n",
       "      <td>0.941176</td>\n",
       "      <td>0.051961</td>\n",
       "      <td>0.179047</td>\n",
       "      <td>0.745098</td>\n",
       "      <td>0.000000</td>\n",
       "      <td>0</td>\n",
       "    </tr>\n",
       "    <tr>\n",
       "      <th>2</th>\n",
       "      <td>benign (208) copia.png</td>\n",
       "      <td>2</td>\n",
       "      <td>9.0</td>\n",
       "      <td>9.207107</td>\n",
       "      <td>1.334154</td>\n",
       "      <td>0.929440</td>\n",
       "      <td>1.000000</td>\n",
       "      <td>0.208715</td>\n",
       "      <td>0.008627</td>\n",
       "      <td>0.227451</td>\n",
       "      <td>0.196078</td>\n",
       "      <td>0</td>\n",
       "    </tr>\n",
       "    <tr>\n",
       "      <th>3</th>\n",
       "      <td>benign (208) copia.png</td>\n",
       "      <td>3</td>\n",
       "      <td>44.0</td>\n",
       "      <td>27.071068</td>\n",
       "      <td>0.754487</td>\n",
       "      <td>0.940997</td>\n",
       "      <td>0.916667</td>\n",
       "      <td>0.226381</td>\n",
       "      <td>0.013849</td>\n",
       "      <td>0.274510</td>\n",
       "      <td>0.203922</td>\n",
       "      <td>0</td>\n",
       "    </tr>\n",
       "    <tr>\n",
       "      <th>4</th>\n",
       "      <td>benign (208) copia.png</td>\n",
       "      <td>4</td>\n",
       "      <td>7.0</td>\n",
       "      <td>7.207107</td>\n",
       "      <td>1.693503</td>\n",
       "      <td>0.888666</td>\n",
       "      <td>1.000000</td>\n",
       "      <td>0.256583</td>\n",
       "      <td>0.014195</td>\n",
       "      <td>0.274510</td>\n",
       "      <td>0.239216</td>\n",
       "      <td>0</td>\n",
       "    </tr>\n",
       "  </tbody>\n",
       "</table>\n",
       "</div>"
      ],
      "text/plain": [
       "                 Filename  Object_ID  Area  Perimeter  Circularity  \\\n",
       "0  benign (208) copia.png          0   9.0   9.207107     1.334154   \n",
       "1  benign (208) copia.png          1  16.0  12.621320     1.262177   \n",
       "2  benign (208) copia.png          2   9.0   9.207107     1.334154   \n",
       "3  benign (208) copia.png          3  44.0  27.071068     0.754487   \n",
       "4  benign (208) copia.png          4   7.0   7.207107     1.693503   \n",
       "\n",
       "   Eccentricity  Solidity  Mean_Intensity  Std_Intensity  Max_Intensity  \\\n",
       "0      0.929440  1.000000        0.006972       0.007572       0.019608   \n",
       "1      0.668184  0.941176        0.051961       0.179047       0.745098   \n",
       "2      0.929440  1.000000        0.208715       0.008627       0.227451   \n",
       "3      0.940997  0.916667        0.226381       0.013849       0.274510   \n",
       "4      0.888666  1.000000        0.256583       0.014195       0.274510   \n",
       "\n",
       "   Min_Intensity  Valid_Tumor  \n",
       "0       0.000000            0  \n",
       "1       0.000000            0  \n",
       "2       0.196078            0  \n",
       "3       0.203922            0  \n",
       "4       0.239216            0  "
      ]
     },
     "execution_count": 125,
     "metadata": {},
     "output_type": "execute_result"
    }
   ],
   "source": [
    "data['Valid_Tumor']= (data['Valid_Tumor']>0.5).astype(int)\n",
    "data.head()"
   ]
  },
  {
   "cell_type": "code",
   "execution_count": 127,
   "id": "3487277b-123a-4a86-b07e-3fcf49c134f6",
   "metadata": {},
   "outputs": [
    {
     "name": "stdout",
     "output_type": "stream",
     "text": [
      "Accuracy : 0.9700854700854701\n",
      "Classification Report :\n",
      "              precision    recall  f1-score   support\n",
      "\n",
      "           0       0.97      1.00      0.98       226\n",
      "           1       0.67      0.25      0.36         8\n",
      "\n",
      "    accuracy                           0.97       234\n",
      "   macro avg       0.82      0.62      0.67       234\n",
      "weighted avg       0.96      0.97      0.96       234\n",
      "\n"
     ]
    }
   ],
   "source": [
    "\n",
    "features = ['Area', 'Perimeter', 'Circularity', 'Eccentricity', 'Solidity', 'Mean_Intensity', 'Std_Intensity', 'Max_Intensity', 'Min_Intensity']\n",
    "target = 'Valid_Tumor'\n",
    "\n",
    "X = data[features]  # Feature matrix\n",
    "y = data[target]    # Target label\n",
    "\n",
    "# Split the data into training and testing sets (80% training, 20% testing)\n",
    "X_train, X_test, y_train, y_test = train_test_split(X, y, test_size=0.2, random_state=42) \n",
    "\n",
    "# Initialize the classifier\n",
    "clf = RandomForestClassifier(random_state=42)\n",
    "\n",
    "# Train the classifier on the training data\n",
    "clf.fit(X_train, y_train)\n",
    "\n",
    "# Make predictions on the test set\n",
    "y_pred = clf.predict(X_test)\n",
    "\n",
    "# Evaluate the classifier's performance\n",
    "accuracy = accuracy_score(y_test, y_pred)\n",
    "print(f'Accuracy : {accuracy}')\n",
    "\n",
    "# Print the classification report to evaluate the performance more deeply\n",
    "print('Classification Report :')\n",
    "print(classification_report(y_test, y_pred))\n"
   ]
  },
  {
   "cell_type": "code",
   "execution_count": 129,
   "id": "96baaf3e-48e8-4980-a2a5-5d51ec27791b",
   "metadata": {},
   "outputs": [
    {
     "name": "stdout",
     "output_type": "stream",
     "text": [
      "Accuracy: 0.9786324786324786\n",
      "Classification Report:\n",
      "              precision    recall  f1-score   support\n",
      "\n",
      "           0       1.00      0.98      0.99       226\n",
      "           1       0.64      0.88      0.74         8\n",
      "\n",
      "    accuracy                           0.98       234\n",
      "   macro avg       0.82      0.93      0.86       234\n",
      "weighted avg       0.98      0.98      0.98       234\n",
      "\n"
     ]
    }
   ],
   "source": [
    "\n",
    "features = ['Area', 'Perimeter', 'Circularity', 'Eccentricity', 'Solidity', 'Mean_Intensity', 'Std_Intensity', 'Max_Intensity', 'Min_Intensity']\n",
    "target = 'Valid_Tumor'\n",
    "\n",
    "X = data[features]  # Feature matrix (9 features)\n",
    "y = data[target]    # Target label\n",
    "\n",
    "# Split the data into training and testing sets\n",
    "X_train, X_test, y_train, y_test = train_test_split(X, y, test_size=0.2, random_state=42)\n",
    "\n",
    "# Initialize the classifier\n",
    "lda = LinearDiscriminantAnalysis()\n",
    "\n",
    "# Train the classifier\n",
    "lda.fit(X_train, y_train)\n",
    "\n",
    "# Make predictions on the test set\n",
    "y_pred = lda.predict(X_test)\n",
    "\n",
    "# Evaluate the classifier's performance\n",
    "accuracy = accuracy_score(y_test, y_pred)\n",
    "\n",
    "print(f'Accuracy: {accuracy}')\n",
    "print('Classification Report:')\n",
    "print(classification_report(y_test, y_pred))\n"
   ]
  },
  {
   "cell_type": "code",
   "execution_count": 131,
   "id": "5b08c6a6-a2a3-42b1-850a-8ae78edf666e",
   "metadata": {},
   "outputs": [
    {
     "name": "stdout",
     "output_type": "stream",
     "text": [
      "LDA model with 9 features saved to lda_model_9_features.pkl\n"
     ]
    }
   ],
   "source": [
    "# Save the trained LDA model to a file\n",
    "import pickle\n",
    "with open('/Users/mariavivasarias/Desktop/lda_model_9_features.pkl', 'wb') as f:\n",
    "    pickle.dump(lda, f)\n",
    "\n",
    "print(\"LDA model with 9 features saved to lda_model_9_features.pkl\")\n"
   ]
  },
  {
   "cell_type": "code",
   "execution_count": 133,
   "id": "5a5bfbe6-f1d9-4e12-97de-5bc93ba27bdd",
   "metadata": {},
   "outputs": [
    {
     "name": "stdout",
     "output_type": "stream",
     "text": [
      "Confusion Matrix:\n",
      "[[222   4]\n",
      " [  1   7]]\n"
     ]
    },
    {
     "data": {
      "image/png": "[encoded data removed]",
      "text/plain": [
       "<Figure size 800x600 with 2 Axes>"
      ]
     },
     "metadata": {},
     "output_type": "display_data"
    }
   ],
   "source": [
    "cm = confusion_matrix(y_test, y_pred)\n",
    "print(\"Confusion Matrix:\")\n",
    "print(cm)\n",
    "\n",
    "# Plotting the confusion matrix using a heatmap\n",
    "plt.figure(figsize=(8, 6))\n",
    "sns.heatmap(cm, annot=True, fmt=\"d\", cmap=\"Blues\", xticklabels=['Not Valid Tumor', 'Valid Tumor'], yticklabels=['Not Valid Tumor', 'Valid Tumor'])\n",
    "plt.xlabel('Predicted')\n",
    "plt.ylabel('Actual')\n",
    "plt.title('Confusion Matrix')\n",
    "plt.show()"
   ]
  },
  {
   "cell_type": "code",
   "execution_count": null,
   "id": "fbb18072-6250-4c0f-83e0-d6cc4a012882",
   "metadata": {},
   "outputs": [],
   "source": []
  }
 ],
 "metadata": {
  "kernelspec": {
   "display_name": "Python 3 (ipykernel)",
   "language": "python",
   "name": "python3"
  },
  "language_info": {
   "codemirror_mode": {
    "name": "ipython",
    "version": 3
   },
   "file_extension": ".py",
   "mimetype": "text/x-python",
   "name": "python",
   "nbconvert_exporter": "python",
   "pygments_lexer": "ipython3",
   "version": "3.12.7"
  }
 },
 "nbformat": 4,
 "nbformat_minor": 5
}
